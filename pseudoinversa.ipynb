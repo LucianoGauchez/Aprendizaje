{
  "nbformat": 4,
  "nbformat_minor": 0,
  "metadata": {
    "colab": {
      "name": "pseudoinversa.ipynb",
      "provenance": []
    },
    "kernelspec": {
      "name": "python3",
      "display_name": "Python 3"
    },
    "language_info": {
      "name": "python"
    }
  },
  "cells": [
    {
      "cell_type": "code",
      "metadata": {
        "id": "PdMMNfAAqL9b"
      },
      "source": [
        "import numpy as np\n",
        "import matplotlib.pyplot as plt"
      ],
      "execution_count": 2,
      "outputs": []
    },
    {
      "cell_type": "markdown",
      "metadata": {
        "id": "BDfsHIabsmjz"
      },
      "source": [
        "# PCA"
      ]
    },
    {
      "cell_type": "code",
      "metadata": {
        "id": "ZBufOAGesp-g"
      },
      "source": [
        "np.random.seed(42)\n",
        "\n",
        "x = 3*np.random.rand(200)\n",
        "y = 20*x + 2*np.random.rand(200)\n",
        "\n",
        "x = x.reshape(200, 1)\n",
        "y = y.reshape(200,1)\n"
      ],
      "execution_count": 3,
      "outputs": []
    },
    {
      "cell_type": "code",
      "metadata": {
        "colab": {
          "base_uri": "https://localhost:8080/"
        },
        "id": "GZUOMbTvsp7H",
        "outputId": "96cedd23-269d-422c-861b-9e88503ff68d"
      },
      "source": [
        "xy = np.hstack([x, y])\n",
        "xy.shape\n"
      ],
      "execution_count": 4,
      "outputs": [
        {
          "output_type": "execute_result",
          "data": {
            "text/plain": [
              "(200, 2)"
            ]
          },
          "metadata": {
            "tags": []
          },
          "execution_count": 4
        }
      ]
    },
    {
      "cell_type": "code",
      "metadata": {
        "colab": {
          "base_uri": "https://localhost:8080/",
          "height": 264
        },
        "id": "BtQMj4Wqsp4p",
        "outputId": "d9aa01e6-eef4-44d2-89a2-3e24af4c28e5"
      },
      "source": [
        "plt.plot(xy[:,0], xy[:,1], '-')\n",
        "plt.show()"
      ],
      "execution_count": 5,
      "outputs": [
        {
          "output_type": "display_data",
          "data": {
            "image/png": "[encoded data removed]",
            "text/plain": [
              "<Figure size 432x288 with 1 Axes>"
            ]
          },
          "metadata": {
            "tags": [],
            "needs_background": "light"
          }
        }
      ]
    },
    {
      "cell_type": "code",
      "metadata": {
        "id": "tow9caPhsp2p"
      },
      "source": [
        "xy_centrado = xy - np.mean(xy, axis = 0)"
      ],
      "execution_count": 6,
      "outputs": []
    },
    {
      "cell_type": "code",
      "metadata": {
        "colab": {
          "base_uri": "https://localhost:8080/",
          "height": 264
        },
        "id": "IHYZaCq9spzo",
        "outputId": "b2df5f34-e211-4d8a-fdb4-881f48e95996"
      },
      "source": [
        "plt.plot(xy_centrado[:,0], xy_centrado[:,1], '-')\n",
        "plt.show()\n"
      ],
      "execution_count": 7,
      "outputs": [
        {
          "output_type": "display_data",
          "data": {
            "image/png": "[encoded data removed]",
            "text/plain": [
              "<Figure size 432x288 with 1 Axes>"
            ]
          },
          "metadata": {
            "tags": [],
            "needs_background": "light"
          }
        }
      ]
    },
    {
      "cell_type": "code",
      "metadata": {
        "colab": {
          "base_uri": "https://localhost:8080/"
        },
        "id": "SdFBhDKIspxf",
        "outputId": "39396185-f2f1-40b1-e3b6-08cea64cb087"
      },
      "source": [
        "autovalores, autovectores = np.linalg.eig(xy_centrado.T.dot(xy_centrado))\n",
        "autovectores"
      ],
      "execution_count": 8,
      "outputs": [
        {
          "output_type": "execute_result",
          "data": {
            "text/plain": [
              "array([[-0.99875285, -0.04992746],\n",
              "       [ 0.04992746, -0.99875285]])"
            ]
          },
          "metadata": {
            "tags": []
          },
          "execution_count": 8
        }
      ]
    },
    {
      "cell_type": "code",
      "metadata": {
        "id": "uFjjymxispvg"
      },
      "source": [
        " "
      ],
      "execution_count": 8,
      "outputs": []
    },
    {
      "cell_type": "code",
      "metadata": {
        "id": "iq8VDbAospss"
      },
      "source": [
        ""
      ],
      "execution_count": 8,
      "outputs": []
    },
    {
      "cell_type": "code",
      "metadata": {
        "id": "wNpVvEYaspqL"
      },
      "source": [
        ""
      ],
      "execution_count": 8,
      "outputs": []
    },
    {
      "cell_type": "code",
      "metadata": {
        "id": "2Gmr9kQ6sphe"
      },
      "source": [
        ""
      ],
      "execution_count": 8,
      "outputs": []
    },
    {
      "cell_type": "markdown",
      "metadata": {
        "id": "C3GfsSY4paCM"
      },
      "source": [
        "# Usando la pseudoinversa"
      ]
    },
    {
      "cell_type": "code",
      "metadata": {
        "colab": {
          "base_uri": "https://localhost:8080/",
          "height": 286
        },
        "id": "HkqvJtnOpdfX",
        "outputId": "c790726e-e7f7-4654-eda0-bdce964ea502"
      },
      "source": [
        "x = np.linspace(-5, 5, 1000)\n",
        "\n",
        "y_1 = -4*x + 3\n",
        "y_2 =  2*x + 5\n",
        "y_3 = -3*x + 1\n",
        "\n",
        "plt.plot(x, y_1)\n",
        "plt.plot(x, y_2)\n",
        "plt.plot(x, y_3)\n",
        "\n",
        "plt.xlim(-2, 2.5)\n",
        "plt.ylim(-6, 6)"
      ],
      "execution_count": 9,
      "outputs": [
        {
          "output_type": "execute_result",
          "data": {
            "text/plain": [
              "(-6.0, 6.0)"
            ]
          },
          "metadata": {
            "tags": []
          },
          "execution_count": 9
        },
        {
          "output_type": "display_data",
          "data": {
            "image/png": "[encoded data removed]",
            "text/plain": [
              "<Figure size 432x288 with 1 Axes>"
            ]
          },
          "metadata": {
            "tags": [],
            "needs_background": "light"
          }
        }
      ]
    },
    {
      "cell_type": "code",
      "metadata": {
        "colab": {
          "base_uri": "https://localhost:8080/"
        },
        "id": "JAJfSI9Ip3ra",
        "outputId": "55027d66-9d2c-491b-eff9-dd2b2a5e8cf4"
      },
      "source": [
        "matriz = np.array([[1, 2], [3, 4], [5, 6]])\n",
        "print(matriz)"
      ],
      "execution_count": 10,
      "outputs": [
        {
          "output_type": "stream",
          "text": [
            "[[1 2]\n",
            " [3 4]\n",
            " [5 6]]\n"
          ],
          "name": "stdout"
        }
      ]
    },
    {
      "cell_type": "code",
      "metadata": {
        "colab": {
          "base_uri": "https://localhost:8080/"
        },
        "id": "pydAb5Qvp3vc",
        "outputId": "2726f373-c9a5-4bf8-fe97-7db1c0bc589e"
      },
      "source": [
        "matriz_pse = np.linalg.pinv(matriz)\n",
        "matriz_pse"
      ],
      "execution_count": 11,
      "outputs": [
        {
          "output_type": "execute_result",
          "data": {
            "text/plain": [
              "array([[-1.33333333, -0.33333333,  0.66666667],\n",
              "       [ 1.08333333,  0.33333333, -0.41666667]])"
            ]
          },
          "metadata": {
            "tags": []
          },
          "execution_count": 11
        }
      ]
    },
    {
      "cell_type": "code",
      "metadata": {
        "colab": {
          "base_uri": "https://localhost:8080/"
        },
        "id": "6WbtatdYp3yy",
        "outputId": "ebaf7ebd-2be8-4e77-e657-ba5594b04267"
      },
      "source": [
        "b = np.array([[3], [5], [1]])\n",
        "b"
      ],
      "execution_count": 12,
      "outputs": [
        {
          "output_type": "execute_result",
          "data": {
            "text/plain": [
              "array([[3],\n",
              "       [5],\n",
              "       [1]])"
            ]
          },
          "metadata": {
            "tags": []
          },
          "execution_count": 12
        }
      ]
    },
    {
      "cell_type": "code",
      "metadata": {
        "colab": {
          "base_uri": "https://localhost:8080/"
        },
        "id": "RkE_3GK6p32c",
        "outputId": "29122b53-1ade-47a5-d177-fe6947aab27b"
      },
      "source": [
        "resultado = matriz_pse.dot(b)\n",
        "resultado\n"
      ],
      "execution_count": 13,
      "outputs": [
        {
          "output_type": "execute_result",
          "data": {
            "text/plain": [
              "array([[-5. ],\n",
              "       [ 4.5]])"
            ]
          },
          "metadata": {
            "tags": []
          },
          "execution_count": 13
        }
      ]
    },
    {
      "cell_type": "code",
      "metadata": {
        "colab": {
          "base_uri": "https://localhost:8080/",
          "height": 268
        },
        "id": "O5Ib8dYQp36I",
        "outputId": "17629e6b-cb84-446d-b400-a6ed4b29d9c3"
      },
      "source": [
        "plt.plot(x, y_1)\n",
        "plt.plot(x, y_2)\n",
        "plt.plot(x, y_3)\n",
        "\n",
        "plt.xlim(-2, 2.5)\n",
        "plt.ylim(-6, 6)\n",
        "\n",
        "plt.scatter(resultado[0], resultado[1])\n",
        "\n",
        "plt.show()"
      ],
      "execution_count": 14,
      "outputs": [
        {
          "output_type": "display_data",
          "data": {
            "image/png": "[encoded data removed]",
            "text/plain": [
              "<Figure size 432x288 with 1 Axes>"
            ]
          },
          "metadata": {
            "tags": [],
            "needs_background": "light"
          }
        }
      ]
    },
    {
      "cell_type": "markdown",
      "metadata": {
        "id": "6OvyFaKCpRY9"
      },
      "source": [
        "## SVD"
      ]
    },
    {
      "cell_type": "code",
      "metadata": {
        "id": "AiknT2Uej-DQ"
      },
      "source": [
        "import numpy as np\n",
        "\n",
        "np.set_printoptions(suppress=True) #que no nos muestre los numero que son muy cercanos a 0. queremos verlo como 0 para que no induzca errores"
      ],
      "execution_count": 16,
      "outputs": []
    },
    {
      "cell_type": "code",
      "metadata": {
        "colab": {
          "base_uri": "https://localhost:8080/"
        },
        "id": "Xrby5lzYkLQ-",
        "outputId": "e253e8b0-18b5-4080-a9fe-c34c76d3a4f1"
      },
      "source": [
        "A = np.array([[1, 2], [3, 4], [5, 6]])\n",
        "A"
      ],
      "execution_count": 17,
      "outputs": [
        {
          "output_type": "execute_result",
          "data": {
            "text/plain": [
              "array([[1, 2],\n",
              "       [3, 4],\n",
              "       [5, 6]])"
            ]
          },
          "metadata": {
            "tags": []
          },
          "execution_count": 17
        }
      ]
    },
    {
      "cell_type": "code",
      "metadata": {
        "colab": {
          "base_uri": "https://localhost:8080/"
        },
        "id": "rDWJvub0kjha",
        "outputId": "1f59d1df-c268-4350-fab0-cb9c6f893e35"
      },
      "source": [
        "U, D, V =np.linalg.svd(A)\n",
        "print('U')\n",
        "print(U)\n",
        "print('D')\n",
        "print(D)\n",
        "print('V')\n",
        "print(V)"
      ],
      "execution_count": 18,
      "outputs": [
        {
          "output_type": "stream",
          "text": [
            "U\n",
            "[[-0.2298477   0.88346102  0.40824829]\n",
            " [-0.52474482  0.24078249 -0.81649658]\n",
            " [-0.81964194 -0.40189603  0.40824829]]\n",
            "D\n",
            "[9.52551809 0.51430058]\n",
            "V\n",
            "[[-0.61962948 -0.78489445]\n",
            " [-0.78489445  0.61962948]]\n"
          ],
          "name": "stdout"
        }
      ]
    },
    {
      "cell_type": "code",
      "metadata": {
        "colab": {
          "base_uri": "https://localhost:8080/"
        },
        "id": "RvVslWnMlCFE",
        "outputId": "d5d4b35c-a658-4995-9521-73f6bf107779"
      },
      "source": [
        "D_pse = np.zeros((A.shape[0], A.shape[1])).T\n",
        "print(D_pse)"
      ],
      "execution_count": 19,
      "outputs": [
        {
          "output_type": "stream",
          "text": [
            "[[0. 0. 0.]\n",
            " [0. 0. 0.]]\n"
          ],
          "name": "stdout"
        }
      ]
    },
    {
      "cell_type": "code",
      "metadata": {
        "colab": {
          "base_uri": "https://localhost:8080/"
        },
        "id": "H0GzN8vHlf3i",
        "outputId": "3b0b7ce6-17f5-4d04-9d6f-a75b99c6c40e"
      },
      "source": [
        "print('Valores a reemplazar en D_pse')\n",
        "print(D_pse[:D.shape[0], :D.shape[0]])"
      ],
      "execution_count": 20,
      "outputs": [
        {
          "output_type": "stream",
          "text": [
            "Valores a reemplazar en D_pse\n",
            "[[0. 0.]\n",
            " [0. 0.]]\n"
          ],
          "name": "stdout"
        }
      ]
    },
    {
      "cell_type": "code",
      "metadata": {
        "colab": {
          "base_uri": "https://localhost:8080/"
        },
        "id": "f2Cg2GUxl3EN",
        "outputId": "e992615e-d90a-4273-80ed-7faf475c2afd"
      },
      "source": [
        "print('Valores que pondremos en D_pse')\n",
        "print(np.linalg.inv(np.diag(D)))"
      ],
      "execution_count": 21,
      "outputs": [
        {
          "output_type": "stream",
          "text": [
            "Valores que pondremos en D_pse\n",
            "[[0.10498117 0.        ]\n",
            " [0.         1.94438824]]\n"
          ],
          "name": "stdout"
        }
      ]
    },
    {
      "cell_type": "code",
      "metadata": {
        "colab": {
          "base_uri": "https://localhost:8080/"
        },
        "id": "beog0FZJmDyK",
        "outputId": "7fffaa86-2c42-4018-d6aa-ec287877df37"
      },
      "source": [
        "print('D_pse')\n",
        "D_pse[:D.shape[0], :D.shape[0]]=np.linalg.inv(np.diag(D))"
      ],
      "execution_count": 22,
      "outputs": [
        {
          "output_type": "stream",
          "text": [
            "D_pse\n"
          ],
          "name": "stdout"
        }
      ]
    },
    {
      "cell_type": "code",
      "metadata": {
        "colab": {
          "base_uri": "https://localhost:8080/"
        },
        "id": "HypWnaChmZ7-",
        "outputId": "c7b679de-3286-4cfe-c0b1-b32cf082c76e"
      },
      "source": [
        "print(D_pse)"
      ],
      "execution_count": 23,
      "outputs": [
        {
          "output_type": "stream",
          "text": [
            "[[0.10498117 0.         0.        ]\n",
            " [0.         1.94438824 0.        ]]\n"
          ],
          "name": "stdout"
        }
      ]
    },
    {
      "cell_type": "code",
      "metadata": {
        "colab": {
          "base_uri": "https://localhost:8080/"
        },
        "id": "icY4Dy3Amj90",
        "outputId": "96e17e09-2f23-49b5-df64-255b8034a796"
      },
      "source": [
        "A_pse = V.T.dot(D_pse).dot(U.T)\n",
        "A_pse"
      ],
      "execution_count": 24,
      "outputs": [
        {
          "output_type": "execute_result",
          "data": {
            "text/plain": [
              "array([[-1.33333333, -0.33333333,  0.66666667],\n",
              "       [ 1.08333333,  0.33333333, -0.41666667]])"
            ]
          },
          "metadata": {
            "tags": []
          },
          "execution_count": 24
        }
      ]
    },
    {
      "cell_type": "code",
      "metadata": {
        "colab": {
          "base_uri": "https://localhost:8080/"
        },
        "id": "SyfGdzGBmvmZ",
        "outputId": "1e7d6121-3c9f-4a2c-9a66-810e1a79cf04"
      },
      "source": [
        "A_pse_calc = np.linalg.pinv(A)\n",
        "A_pse_calc"
      ],
      "execution_count": 25,
      "outputs": [
        {
          "output_type": "execute_result",
          "data": {
            "text/plain": [
              "array([[-1.33333333, -0.33333333,  0.66666667],\n",
              "       [ 1.08333333,  0.33333333, -0.41666667]])"
            ]
          },
          "metadata": {
            "tags": []
          },
          "execution_count": 25
        }
      ]
    },
    {
      "cell_type": "code",
      "metadata": {
        "colab": {
          "base_uri": "https://localhost:8080/"
        },
        "id": "InmJn0Kvm6Yv",
        "outputId": "e65b6e0d-9eba-4218-d597-9bb86fe59d9e"
      },
      "source": [
        "print(A_pse.dot(A))"
      ],
      "execution_count": 26,
      "outputs": [
        {
          "output_type": "stream",
          "text": [
            "[[ 1.  0.]\n",
            " [-0.  1.]]\n"
          ],
          "name": "stdout"
        }
      ]
    },
    {
      "cell_type": "code",
      "metadata": {
        "colab": {
          "base_uri": "https://localhost:8080/"
        },
        "id": "uQMtjpv2nFJC",
        "outputId": "4d4a2aac-bff0-4749-df8b-1e434fba9cfa"
      },
      "source": [
        "np.set_printoptions(suppress = True)\n",
        "print(A_pse.dot(A))"
      ],
      "execution_count": 27,
      "outputs": [
        {
          "output_type": "stream",
          "text": [
            "[[ 1.  0.]\n",
            " [-0.  1.]]\n"
          ],
          "name": "stdout"
        }
      ]
    },
    {
      "cell_type": "code",
      "metadata": {
        "colab": {
          "base_uri": "https://localhost:8080/"
        },
        "id": "nBpZafxZnOiY",
        "outputId": "9987e171-0fdf-42fe-e275-d858fc4cefb0"
      },
      "source": [
        "print(A.dot(A_pse))"
      ],
      "execution_count": 28,
      "outputs": [
        {
          "output_type": "stream",
          "text": [
            "[[ 0.83333333  0.33333333 -0.16666667]\n",
            " [ 0.33333333  0.33333333  0.33333333]\n",
            " [-0.16666667  0.33333333  0.83333333]]\n"
          ],
          "name": "stdout"
        }
      ]
    },
    {
      "cell_type": "code",
      "metadata": {
        "colab": {
          "base_uri": "https://localhost:8080/"
        },
        "id": "H2dyVNwkniUd",
        "outputId": "076fbab0-6c16-43d8-adec-a0e517600798"
      },
      "source": [
        "A_pse_2 = np.linalg.inv(A.T.dot(A)).dot(A.T)\n",
        "A_pse_2"
      ],
      "execution_count": 29,
      "outputs": [
        {
          "output_type": "execute_result",
          "data": {
            "text/plain": [
              "array([[-1.33333333, -0.33333333,  0.66666667],\n",
              "       [ 1.08333333,  0.33333333, -0.41666667]])"
            ]
          },
          "metadata": {
            "tags": []
          },
          "execution_count": 29
        }
      ]
    },
    {
      "cell_type": "code",
      "metadata": {
        "colab": {
          "base_uri": "https://localhost:8080/"
        },
        "id": "swEwWVA-nvj3",
        "outputId": "bf80034c-d407-42df-dd1e-fb9819e98159"
      },
      "source": [
        "A_pse"
      ],
      "execution_count": 30,
      "outputs": [
        {
          "output_type": "execute_result",
          "data": {
            "text/plain": [
              "array([[-1.33333333, -0.33333333,  0.66666667],\n",
              "       [ 1.08333333,  0.33333333, -0.41666667]])"
            ]
          },
          "metadata": {
            "tags": []
          },
          "execution_count": 30
        }
      ]
    }
  ]
}